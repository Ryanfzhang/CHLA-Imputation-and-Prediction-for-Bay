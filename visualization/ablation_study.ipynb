{
 "cells": [
  {
   "cell_type": "code",
   "execution_count": 1,
   "metadata": {},
   "outputs": [],
   "source": [
    "import torch\n",
    "import numpy as np\n",
    "import matplotlib.pyplot as plt\n",
    "import seaborn as sns"
   ]
  },
  {
   "cell_type": "markdown",
   "metadata": {},
   "source": [
    "PRE"
   ]
  },
  {
   "cell_type": "code",
   "execution_count": null,
   "metadata": {},
   "outputs": [],
   "source": [
    "import pandas as pd\n",
    "import numpy as np\n",
    "missing = []\n",
    "missing.extend(\"10%\")\n",
    "missing.extend(\"10%\")\n",
    "missing.extend(\"30%\")\n",
    "missing.extend(\"30%\")\n",
    "missing.extend(\"50%\")\n",
    "missing.extend(\"50%\")\n",
    "missing.extend(\"70%\")\n",
    "missing.extend(\"70%\")\n",
    "missing.extend(\"90%\")\n",
    "missing.extend(\"90%\")\n",
    "method = []\n",
    "method.extend(\"WS\")\n",
    "method.extend(\"WT\")\n",
    "method.extend(\"WS\")\n",
    "method.extend(\"WT\")\n",
    "method.extend(\"WS\")\n",
    "method.extend(\"WT\")\n",
    "method.extend(\"WS\")\n",
    "method.extend(\"WT\")\n",
    "method.extend(\"WS\")\n",
    "method.extend(\"WT\")\n",
    "data = {'mae': np.concatenate([0.1546-0.0310, 0.0425, mse_xg.numpy(), mse_mtgnn_wo.numpy(), mse_mtgnn.numpy(), mse_crossformer_wo.numpy(), mse_crossformer.numpy(), mse_tsmixer_wo.numpy(), mse_tsmixer.numpy(), mse_iTransformer_wo.numpy(), mse_iTransformer.numpy(), mse_predrnn_wo.numpy(), mse_predrnn.numpy(), mse_our_wo.numpy(), mse_our.numpy()],0),\n",
    "        'methods':method,\n",
    "        'missing':missing}\n",
    "data = pd.DataFrame.from_dict(data)"
   ]
  }
 ],
 "metadata": {
  "kernelspec": {
   "display_name": "torch",
   "language": "python",
   "name": "python3"
  },
  "language_info": {
   "codemirror_mode": {
    "name": "ipython",
    "version": 3
   },
   "file_extension": ".py",
   "mimetype": "text/x-python",
   "name": "python",
   "nbconvert_exporter": "python",
   "pygments_lexer": "ipython3",
   "version": "3.9.19"
  }
 },
 "nbformat": 4,
 "nbformat_minor": 2
}
