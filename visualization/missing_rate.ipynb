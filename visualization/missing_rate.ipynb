{
 "cells": [
  {
   "cell_type": "code",
   "execution_count": 2,
   "metadata": {},
   "outputs": [],
   "source": [
    "import torch\n",
    "import numpy as np\n",
    "import matplotlib.pyplot as plt\n",
    "import seaborn as sns"
   ]
  },
  {
   "cell_type": "code",
   "execution_count": 7,
   "metadata": {},
   "outputs": [],
   "source": [
    "chla = np.load(\"/home/mafzhang/data/PRE/8d/chla.npy\")\n",
    "is_sea = np.load(\"/home/mafzhang/data/PRE/8d/is_sea_2.npy\")\n",
    "missing_rate = np.isnan(chla).sum(0)/chla.shape[0]"
   ]
  },
  {
   "cell_type": "code",
   "execution_count": 14,
   "metadata": {},
   "outputs": [
    {
     "data": {
      "text/plain": [
       "4325"
      ]
     },
     "execution_count": 14,
     "metadata": {},
     "output_type": "execute_result"
    }
   ],
   "source": [
    "is_sea.sum()"
   ]
  },
  {
   "cell_type": "code",
   "execution_count": 10,
   "metadata": {},
   "outputs": [],
   "source": [
    "missing_rate = missing_rate[is_sea.astype(bool)]"
   ]
  },
  {
   "cell_type": "code",
   "execution_count": 15,
   "metadata": {},
   "outputs": [
    {
     "data": {
      "text/plain": [
       "0.5029027162305276"
      ]
     },
     "execution_count": 15,
     "metadata": {},
     "output_type": "execute_result"
    }
   ],
   "source": [
    "missing_rate.mean()\n"
   ]
  },
  {
   "cell_type": "code",
   "execution_count": 21,
   "metadata": {},
   "outputs": [],
   "source": [
    "chla = np.load(\"/home/mafzhang/data/MEXICO/8d/chla.npy\")\n",
    "is_sea = np.load(\"/home/mafzhang/data/MEXICO/8d/is_sea.npy\")\n",
    "missing_rate = np.isnan(chla).sum(0)/chla.shape[0]\n",
    "missing_rate = missing_rate[is_sea.astype(bool)]\n",
    "lon = np.load(\"/home/mafzhang/data/MEXICO/8d/long.npy\")\n",
    "lati = np.load(\"/home/mafzhang/data/MEXICO/8d/lati.npy\")"
   ]
  },
  {
   "cell_type": "code",
   "execution_count": 22,
   "metadata": {},
   "outputs": [
    {
     "name": "stdout",
     "output_type": "stream",
     "text": [
      "0.9423480083857443\n",
      "0.05345911949685535\n",
      "0.18185699378136633\n",
      "2907\n",
      "-89.02082824707031\n",
      "-93.97916412353516\n",
      "29.979164123535156\n",
      "28.520832061767578\n"
     ]
    }
   ],
   "source": [
    "print(missing_rate.max())\n",
    "print(missing_rate.min())\n",
    "print(missing_rate.mean())\n",
    "print(is_sea.sum())\n",
    "print(lon.max())\n",
    "print(lon.min())\n",
    "print(lati.max())\n",
    "print(lati.min())"
   ]
  },
  {
   "cell_type": "code",
   "execution_count": 24,
   "metadata": {},
   "outputs": [],
   "source": [
    "chla = np.load(\"/home/mafzhang/data/Chesapeake/8d/chla.npy\")\n",
    "is_sea = np.load(\"/home/mafzhang/data/Chesapeake/8d/is_sea.npy\")\n",
    "missing_rate = np.isnan(chla).sum(0)/chla.shape[0]\n",
    "missing_rate = missing_rate[is_sea.astype(bool)]\n",
    "lon = np.load(\"/home/mafzhang/data/Chesapeake/8d/lon.npy\")\n",
    "lati = np.load(\"/home/mafzhang/data/Chesapeake/8d/lati.npy\")"
   ]
  },
  {
   "cell_type": "code",
   "execution_count": 25,
   "metadata": {},
   "outputs": [
    {
     "name": "stdout",
     "output_type": "stream",
     "text": [
      "0.8805031446540881\n",
      "0.040880503144654086\n",
      "0.10488658978626984\n",
      "1893\n",
      "-74.52082824707031\n",
      "-76.47916412353516\n",
      "38.979164123535156\n",
      "36.52083206176758\n"
     ]
    }
   ],
   "source": [
    "print(missing_rate.max())\n",
    "print(missing_rate.min())\n",
    "print(missing_rate.mean())\n",
    "print(is_sea.sum())\n",
    "print(lon.max())\n",
    "print(lon.min())\n",
    "print(lati.max())\n",
    "print(lati.min())"
   ]
  },
  {
   "cell_type": "code",
   "execution_count": 26,
   "metadata": {},
   "outputs": [],
   "source": [
    "chla = np.load(\"/home/mafzhang/data/Yangtze/8d/chla.npy\")\n",
    "is_sea = np.load(\"/home/mafzhang/data/Yangtze/8d/is_sea.npy\")\n",
    "missing_rate = np.isnan(chla).sum(0)/chla.shape[0]\n",
    "missing_rate = missing_rate[is_sea.astype(bool)]\n",
    "lon = np.load(\"/home/mafzhang/data/Yangtze/8d/lon.npy\")\n",
    "lati = np.load(\"/home/mafzhang/data/Yangtze/8d/lati.npy\")"
   ]
  },
  {
   "cell_type": "code",
   "execution_count": 27,
   "metadata": {},
   "outputs": [
    {
     "name": "stdout",
     "output_type": "stream",
     "text": [
      "0.89937106918239\n",
      "0.4192872117400419\n",
      "0.5427602799650044\n",
      "4572\n",
      "123.97917938232422\n",
      "121.02084350585938\n",
      "31.979164123535156\n",
      "28.020832061767578\n"
     ]
    }
   ],
   "source": [
    "print(missing_rate.max())\n",
    "print(missing_rate.min())\n",
    "print(missing_rate.mean())\n",
    "print(is_sea.sum())\n",
    "print(lon.max())\n",
    "print(lon.min())\n",
    "print(lati.max())\n",
    "print(lati.min())"
   ]
  }
 ],
 "metadata": {
  "kernelspec": {
   "display_name": "torch",
   "language": "python",
   "name": "python3"
  },
  "language_info": {
   "codemirror_mode": {
    "name": "ipython",
    "version": 3
   },
   "file_extension": ".py",
   "mimetype": "text/x-python",
   "name": "python",
   "nbconvert_exporter": "python",
   "pygments_lexer": "ipython3",
   "version": "3.9.19"
  }
 },
 "nbformat": 4,
 "nbformat_minor": 2
}
