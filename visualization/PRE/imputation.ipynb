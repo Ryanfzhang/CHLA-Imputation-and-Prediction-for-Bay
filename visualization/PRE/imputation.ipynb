{
 "cells": [
  {
   "cell_type": "code",
   "execution_count": null,
   "metadata": {},
   "outputs": [],
   "source": [
    "import torch\n",
    "import numpy as np   "
   ]
  },
  {
   "cell_type": "code",
   "execution_count": null,
   "metadata": {},
   "outputs": [],
   "source": [
    "import sys\n",
    "import os\n",
    "sys.path.insert(0, \"/home/mafzhang/code/CHLA-Imputation-and-Prediction-for-Bay/\")\n",
    "print(sys.path)\n",
    "from dataset.dataset_imputation import PRE8dDataset"
   ]
  },
  {
   "cell_type": "code",
   "execution_count": null,
   "metadata": {},
   "outputs": [],
   "source": [
    "import argparse\n",
    "parser = argparse.ArgumentParser(description='Imputation')\n",
    "\n",
    "# args for area and methods\n",
    "parser.add_argument('--area', type=str, default='PRE', help='which bay area we focus')\n",
    "\n",
    "# basic args\n",
    "parser.add_argument('--epochs', type=int, default=500, help='epochs')\n",
    "parser.add_argument('--batch_size', type=int, default=16, help='batch size')\n",
    "parser.add_argument('--lr', type=float, default=1e-3, help='learning rate')\n",
    "parser.add_argument('--wd', type=float, default=1e-4, help='weight decay')\n",
    "parser.add_argument('--test_freq', type=int, default=500, help='test per n epochs')\n",
    "parser.add_argument('--embedding_size', type=int, default=32)\n",
    "parser.add_argument('--hidden_channels', type=int, default=32)\n",
    "parser.add_argument('--diffusion_embedding_size', type=int, default=64)\n",
    "parser.add_argument('--side_channels', type=int, default=1)\n",
    "\n",
    "# args for tasks\n",
    "parser.add_argument('--in_len', type=int, default=46)\n",
    "parser.add_argument('--out_len', type=int, default=46)\n",
    "parser.add_argument('--missing_ratio', type=float, default=0.1)\n",
    "\n",
    "# args for diffusion\n",
    "parser.add_argument('--beta_start', type=float, default=0.0001, help='beta start from this')\n",
    "parser.add_argument('--beta_end', type=float, default=0.2, help='beta end to this')\n",
    "parser.add_argument('--num_steps', type=float, default=50, help='denoising steps')\n",
    "parser.add_argument('--num_samples', type=int, default=10, help='n datasets')\n",
    "parser.add_argument('--schedule', type=str, default='quad', help='noise schedule type')\n",
    "parser.add_argument('--target_strategy', type=str, default='random', help='mask')\n",
    "\n",
    "# args for mae\n",
    "parser.add_argument('--num_heads', type=int, default=8, help='n heads for self attention')\n",
    "config = parser.parse_args([])"
   ]
  },
  {
   "cell_type": "code",
   "execution_count": null,
   "metadata": {},
   "outputs": [],
   "source": [
    "from torch.utils.data import DataLoader\n",
    "test_dloader = DataLoader(PRE8dDataset(config, mode='test'), 1, shuffle=True)"
   ]
  },
  {
   "cell_type": "code",
   "execution_count": null,
   "metadata": {},
   "outputs": [],
   "source": [
    "datas, data_ob_masks, data_gt_masks, labels, label_masks = next(iter(test_dloader))\n",
    "device = \"cuda\"\n",
    "datas, data_ob_masks, data_gt_masks, labels, label_masks = datas.float().to(device), data_ob_masks.to(device), data_gt_masks.to(device), labels.to(device), label_masks.to(device)"
   ]
  },
  {
   "cell_type": "code",
   "execution_count": null,
   "metadata": {},
   "outputs": [],
   "source": [
    "model = torch.load(\"../../log/imputation/PRE/GraphDiffusion/best_0.1.pt\")\n",
    "model = model.to(device)"
   ]
  },
  {
   "cell_type": "code",
   "execution_count": null,
   "metadata": {},
   "outputs": [],
   "source": [
    "cond_mask = data_gt_masks\n",
    "adj = np.load(\"/home/mafzhang/data/{}/8d/adj.npy\".format(config.area))\n",
    "adj = torch.from_numpy(adj).float().to(device)"
   ]
  },
  {
   "cell_type": "code",
   "execution_count": null,
   "metadata": {},
   "outputs": [],
   "source": [
    "imputed_data_our = model.impute(datas, cond_mask, adj, 10)\n",
    "imputed_data_our = imputed_data_our.median(1).values\n",
    "mask = data_ob_masks - cond_mask\n",
    "imputed_our = imputed_data_our[0][mask.bool().cpu()[0]]\n",
    "truth = datas[0][mask.bool()[0]].cpu()"
   ]
  },
  {
   "cell_type": "code",
   "execution_count": null,
   "metadata": {},
   "outputs": [],
   "source": [
    "mae = torch.load(\"../../log/imputation/PRE/MAE/best.pt\")\n",
    "is_sea = np.load(\"/home/mafzhang/data/PRE/8d/is_sea.npy\")\n",
    "datas_image = torch.zeros(1,46,1,60,96)\n",
    "datas_image = datas_image.to(device)\n",
    "datas_image[:,:,:,is_sea.astype(bool)]=datas\n",
    "cond_mask_image = torch.zeros(1,46,1,60,96)\n",
    "cond_mask_image = cond_mask_image.to(device)\n",
    "cond_mask_image[:,:,:,is_sea.astype(bool)]=cond_mask\n",
    "imputed_data_mae = mae.impute(datas_image, cond_mask_image)\n",
    "imputed_data_mae = imputed_data_mae[:,:,:,is_sea.astype(bool)]"
   ]
  },
  {
   "cell_type": "code",
   "execution_count": null,
   "metadata": {},
   "outputs": [],
   "source": [
    "imputed_mae = imputed_data_mae[0][mask.bool().cpu()[0]]"
   ]
  },
  {
   "cell_type": "code",
   "execution_count": null,
   "metadata": {},
   "outputs": [],
   "source": [
    "from einops import rearrange\n",
    "import torchcde\n",
    "tmp_data = torch.where(cond_mask.cpu()==0, float(\"nan\"), datas.cpu())\n",
    "tmp_data = rearrange(tmp_data, \"b t c n-> (b n) t c\")\n",
    "itp_data = torchcde.linear_interpolation_coeffs(tmp_data)\n",
    "imputed_data_itp = rearrange(itp_data, \"(b n) t c -> b t c n\", b=datas.shape[0], n=datas.shape[-1])"
   ]
  },
  {
   "cell_type": "code",
   "execution_count": null,
   "metadata": {},
   "outputs": [],
   "source": [
    "imputed_itp = imputed_data_itp[0][mask.bool().cpu()[0]]"
   ]
  },
  {
   "cell_type": "code",
   "execution_count": null,
   "metadata": {},
   "outputs": [],
   "source": [
    "imputed_our = imputed_our[:1000]\n",
    "imputed_mae = imputed_mae[:1000]\n",
    "imputed_itp = imputed_itp[:1000]\n",
    "truth = truth[:1000]"
   ]
  },
  {
   "cell_type": "code",
   "execution_count": null,
   "metadata": {},
   "outputs": [],
   "source": [
    "import matplotlib.pyplot as plt\n",
    "import seaborn as sns\n",
    "import scipy.stats as stat\n",
    "import pandas as pd\n",
    "method = []\n",
    "method.extend(['Our' for i in range(imputed_our.shape[0])])\n",
    "method.extend(['MAE' for i in range(imputed_our.shape[0])])\n",
    "method.extend(['Lin-ITP' for i in range(imputed_our.shape[0])])\n",
    "data = {'truth': np.concatenate([truth.numpy() for i in range(3)]),\n",
    "        'imputed':np.concatenate([imputed_our.numpy(), imputed_mae.cpu().detach().numpy(), imputed_itp.numpy()]),\n",
    "        'method':method}\n",
    "data = pd.DataFrame.from_dict(data)\n",
    "color =[\"#9F0000\",\"#e3b87f\",\"#576fa0\"]\n",
    "sns.jointplot(data=data, x=\"truth\", y=\"imputed\", hue=\"method\", palette=color)\n",
    "# plt.scatter(truth, imputed_our,s=10, c=\"#9F0000\",label=\"Our\")\n",
    "# plt.scatter(truth, imputed_mae.cpu().detach().numpy(),s=10, c=\"#e3b87f\", label=\"MAE\")\n",
    "# plt.scatter(truth, imputed_itp.cpu(),s=10, c=\"#576fa0\", label=\"Lin-ITP\")\n",
    "xpoints = ypoints = plt.xlim()\n",
    "plt.plot(xpoints, ypoints, 'k-', alpha=0.75, zorder=0)\n",
    "plt.legend()\n",
    "print(stat.pearsonr(truth[:1000], imputed_our))\n",
    "print(stat.pearsonr(truth[:1000], imputed_mae.cpu().detach().numpy()))\n",
    "print(stat.pearsonr(truth[:1000], imputed_itp))"
   ]
  },
  {
   "cell_type": "code",
   "execution_count": null,
   "metadata": {},
   "outputs": [],
   "source": [
    "config.missing_ratio=0.5\n",
    "from torch.utils.data import DataLoader\n",
    "test_dloader = DataLoader(PRE8dDataset(config, mode='test'), 1, shuffle=True)"
   ]
  },
  {
   "cell_type": "code",
   "execution_count": null,
   "metadata": {},
   "outputs": [],
   "source": [
    "datas, data_ob_masks, data_gt_masks, labels, label_masks = next(iter(test_dloader))\n",
    "device = \"cuda\"\n",
    "datas, data_ob_masks, data_gt_masks, labels, label_masks = datas.float().to(device), data_ob_masks.to(device), data_gt_masks.to(device), labels.to(device), label_masks.to(device)"
   ]
  },
  {
   "cell_type": "code",
   "execution_count": null,
   "metadata": {},
   "outputs": [],
   "source": [
    "model = torch.load(\"../../log/imputation/PRE/GraphDiffusion/best_0.5.pt\")\n",
    "model = model.to(device)\n",
    "cond_mask = data_gt_masks\n",
    "adj = np.load(\"/home/mafzhang/data/{}/8d/adj.npy\".format(config.area))\n",
    "adj = torch.from_numpy(adj).float().to(device)"
   ]
  },
  {
   "cell_type": "code",
   "execution_count": null,
   "metadata": {},
   "outputs": [],
   "source": [
    "imputed_data_our = model.impute(datas, cond_mask, adj, 10)\n",
    "imputed_data_our = imputed_data_our.median(1).values\n",
    "mask = data_ob_masks - cond_mask\n",
    "imputed_our = imputed_data_our[0][mask.bool().cpu()[0]]\n",
    "truth = datas[0][mask.bool()[0]].cpu()"
   ]
  },
  {
   "cell_type": "code",
   "execution_count": null,
   "metadata": {},
   "outputs": [],
   "source": [
    "mae = torch.load(\"../../log/imputation/PRE/MAE/best_0.5.pt\")\n",
    "is_sea = np.load(\"/home/mafzhang/data/PRE/8d/is_sea.npy\")\n",
    "datas_image = torch.zeros(1,46,1,60,96)\n",
    "datas_image = datas_image.to(device)\n",
    "datas_image[:,:,:,is_sea.astype(bool)]=datas\n",
    "cond_mask_image = torch.zeros(1,46,1,60,96)\n",
    "cond_mask_image = cond_mask_image.to(device)\n",
    "cond_mask_image[:,:,:,is_sea.astype(bool)]=cond_mask\n",
    "imputed_data_mae = mae.impute(datas_image, cond_mask_image)\n",
    "imputed_data_mae = imputed_data_mae[:,:,:,is_sea.astype(bool)]"
   ]
  },
  {
   "cell_type": "code",
   "execution_count": null,
   "metadata": {},
   "outputs": [],
   "source": [
    "imputed_mae = imputed_data_mae[0][mask.bool().cpu()[0]]"
   ]
  },
  {
   "cell_type": "code",
   "execution_count": null,
   "metadata": {},
   "outputs": [],
   "source": [
    "from einops import rearrange\n",
    "import torchcde\n",
    "tmp_data = torch.where(cond_mask.cpu()==0, float(\"nan\"), datas.cpu())\n",
    "tmp_data = rearrange(tmp_data, \"b t c n-> (b n) t c\")\n",
    "itp_data = torchcde.linear_interpolation_coeffs(tmp_data)\n",
    "imputed_data_itp = rearrange(itp_data, \"(b n) t c -> b t c n\", b=datas.shape[0], n=datas.shape[-1])"
   ]
  },
  {
   "cell_type": "code",
   "execution_count": null,
   "metadata": {},
   "outputs": [],
   "source": [
    "imputed_itp = imputed_data_itp[0][mask.bool().cpu()[0]]"
   ]
  },
  {
   "cell_type": "code",
   "execution_count": null,
   "metadata": {},
   "outputs": [],
   "source": [
    "imputed_our = imputed_our[:1000]\n",
    "imputed_mae = imputed_mae[:1000]\n",
    "imputed_itp = imputed_itp[:1000]\n",
    "truth = truth[:1000]"
   ]
  },
  {
   "cell_type": "code",
   "execution_count": null,
   "metadata": {},
   "outputs": [],
   "source": [
    "import matplotlib.pyplot as plt\n",
    "import seaborn as sns\n",
    "import scipy.stats as stat\n",
    "import pandas as pd\n",
    "method = []\n",
    "method.extend(['Our' for i in range(imputed_our.shape[0])])\n",
    "method.extend(['MAE' for i in range(imputed_our.shape[0])])\n",
    "method.extend(['Lin-ITP' for i in range(imputed_our.shape[0])])\n",
    "data = {'truth': np.concatenate([truth.numpy() for i in range(3)]),\n",
    "        'imputed':np.concatenate([imputed_our.numpy(), imputed_mae.cpu().detach().numpy(), imputed_itp.numpy()]),\n",
    "        'method':method}\n",
    "data = pd.DataFrame.from_dict(data)\n",
    "color =[\"#9F0000\",\"#e3b87f\",\"#576fa0\"]\n",
    "sns.jointplot(data=data, x=\"truth\", y=\"imputed\", hue=\"method\", palette=color)\n",
    "# plt.scatter(truth, imputed_our,s=10, c=\"#9F0000\",label=\"Our\")\n",
    "# plt.scatter(truth, imputed_mae.cpu().detach().numpy(),s=10, c=\"#e3b87f\", label=\"MAE\")\n",
    "# plt.scatter(truth, imputed_itp.cpu(),s=10, c=\"#576fa0\", label=\"Lin-ITP\")\n",
    "xpoints = ypoints = plt.xlim()\n",
    "plt.plot(xpoints, ypoints, 'k-', alpha=0.75, zorder=0)\n",
    "plt.legend()\n",
    "print(stat.pearsonr(truth[:1000], imputed_our))\n",
    "print(stat.pearsonr(truth[:1000], imputed_mae.cpu().detach().numpy()))\n",
    "print(stat.pearsonr(truth[:1000], imputed_itp))"
   ]
  },
  {
   "cell_type": "code",
   "execution_count": null,
   "metadata": {},
   "outputs": [],
   "source": [
    "config.missing_ratio=0.9\n",
    "from torch.utils.data import DataLoader\n",
    "test_dloader = DataLoader(PRE8dDataset(config, mode='test'), 1, shuffle=True)"
   ]
  },
  {
   "cell_type": "code",
   "execution_count": null,
   "metadata": {},
   "outputs": [],
   "source": [
    "datas, data_ob_masks, data_gt_masks, labels, label_masks = next(iter(test_dloader))\n",
    "device = \"cuda\"\n",
    "datas, data_ob_masks, data_gt_masks, labels, label_masks = datas.float().to(device), data_ob_masks.to(device), data_gt_masks.to(device), labels.to(device), label_masks.to(device)"
   ]
  },
  {
   "cell_type": "code",
   "execution_count": null,
   "metadata": {},
   "outputs": [],
   "source": [
    "model = torch.load(\"../../log/imputation/PRE/GraphDiffusion/best_0.9.pt\")\n",
    "model = model.to(device)\n",
    "cond_mask = data_gt_masks\n",
    "adj = np.load(\"/home/mafzhang/data/{}/8d/adj.npy\".format(config.area))\n",
    "adj = torch.from_numpy(adj).float().to(device)"
   ]
  },
  {
   "cell_type": "code",
   "execution_count": null,
   "metadata": {},
   "outputs": [],
   "source": [
    "imputed_data_our = model.impute(datas, cond_mask, adj, 10)\n",
    "imputed_data_our = imputed_data_our.median(1).values\n",
    "mask = data_ob_masks - cond_mask\n",
    "imputed_our = imputed_data_our[0][mask.bool().cpu()[0]]\n",
    "truth = datas[0][mask.bool()[0]].cpu()"
   ]
  },
  {
   "cell_type": "code",
   "execution_count": null,
   "metadata": {},
   "outputs": [],
   "source": [
    "mae = torch.load(\"../../log/imputation/PRE/MAE/best_0.9.pt\")\n",
    "is_sea = np.load(\"/home/mafzhang/data/PRE/8d/is_sea.npy\")\n",
    "datas_image = torch.zeros(1,46,1,60,96)\n",
    "datas_image = datas_image.to(device)\n",
    "datas_image[:,:,:,is_sea.astype(bool)]=datas\n",
    "cond_mask_image = torch.zeros(1,46,1,60,96)\n",
    "cond_mask_image = cond_mask_image.to(device)\n",
    "cond_mask_image[:,:,:,is_sea.astype(bool)]=cond_mask\n",
    "imputed_data_mae = mae.impute(datas_image, cond_mask_image)\n",
    "imputed_data_mae = imputed_data_mae[:,:,:,is_sea.astype(bool)]"
   ]
  },
  {
   "cell_type": "code",
   "execution_count": null,
   "metadata": {},
   "outputs": [],
   "source": [
    "imputed_mae = imputed_data_mae[0][mask.bool().cpu()[0]]"
   ]
  },
  {
   "cell_type": "code",
   "execution_count": null,
   "metadata": {},
   "outputs": [],
   "source": [
    "from einops import rearrange\n",
    "import torchcde\n",
    "tmp_data = torch.where(cond_mask.cpu()==0, float(\"nan\"), datas.cpu())\n",
    "tmp_data = rearrange(tmp_data, \"b t c n-> (b n) t c\")\n",
    "itp_data = torchcde.linear_interpolation_coeffs(tmp_data)\n",
    "imputed_data_itp = rearrange(itp_data, \"(b n) t c -> b t c n\", b=datas.shape[0], n=datas.shape[-1])"
   ]
  },
  {
   "cell_type": "code",
   "execution_count": null,
   "metadata": {},
   "outputs": [],
   "source": [
    "imputed_itp = imputed_data_itp[0][mask.bool().cpu()[0]]"
   ]
  },
  {
   "cell_type": "code",
   "execution_count": null,
   "metadata": {},
   "outputs": [],
   "source": [
    "imputed_our = imputed_our[:1000]\n",
    "imputed_mae = imputed_mae[:1000]\n",
    "imputed_itp = imputed_itp[:1000]\n",
    "truth = truth[:1000]"
   ]
  },
  {
   "cell_type": "code",
   "execution_count": null,
   "metadata": {},
   "outputs": [],
   "source": [
    "import matplotlib.pyplot as plt\n",
    "import seaborn as sns\n",
    "import scipy.stats as stat\n",
    "import pandas as pd\n",
    "method = []\n",
    "method.extend(['Our' for i in range(imputed_our.shape[0])])\n",
    "method.extend(['MAE' for i in range(imputed_our.shape[0])])\n",
    "method.extend(['Lin-ITP' for i in range(imputed_our.shape[0])])\n",
    "data = {'truth': np.concatenate([truth.numpy() for i in range(3)]),\n",
    "        'imputed':np.concatenate([imputed_our.numpy(), imputed_mae.cpu().detach().numpy(), imputed_itp.numpy()]),\n",
    "        'method':method}\n",
    "data = pd.DataFrame.from_dict(data)\n",
    "color =[\"#9F0000\",\"#e3b87f\",\"#576fa0\"]\n",
    "sns.jointplot(data=data, x=\"truth\", y=\"imputed\", hue=\"method\", palette=color)\n",
    "# plt.scatter(truth, imputed_our,s=10, c=\"#9F0000\",label=\"Our\")\n",
    "# plt.scatter(truth, imputed_mae.cpu().detach().numpy(),s=10, c=\"#e3b87f\", label=\"MAE\")\n",
    "# plt.scatter(truth, imputed_itp.cpu(),s=10, c=\"#576fa0\", label=\"Lin-ITP\")\n",
    "xpoints = ypoints = plt.xlim()\n",
    "plt.plot(xpoints, ypoints, 'k-', alpha=0.75, zorder=0)\n",
    "plt.legend()\n",
    "print(stat.pearsonr(truth[:1000], imputed_our))\n",
    "print(stat.pearsonr(truth[:1000], imputed_mae.cpu().detach().numpy()))\n",
    "print(stat.pearsonr(truth[:1000], imputed_itp))"
   ]
  }
 ],
 "metadata": {
  "kernelspec": {
   "display_name": "torch211",
   "language": "python",
   "name": "python3"
  },
  "language_info": {
   "codemirror_mode": {
    "name": "ipython",
    "version": 3
   },
   "file_extension": ".py",
   "mimetype": "text/x-python",
   "name": "python",
   "nbconvert_exporter": "python",
   "pygments_lexer": "ipython3",
   "version": "3.11.5"
  }
 },
 "nbformat": 4,
 "nbformat_minor": 2
}
