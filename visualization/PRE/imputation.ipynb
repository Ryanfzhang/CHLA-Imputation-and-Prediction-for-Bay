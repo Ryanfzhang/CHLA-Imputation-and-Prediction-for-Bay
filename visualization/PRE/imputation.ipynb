{
 "cells": [
  {
   "cell_type": "code",
   "execution_count": 1,
   "metadata": {},
   "outputs": [],
   "source": [
    "import torch\n",
    "import numpy as np   "
   ]
  },
  {
   "cell_type": "code",
   "execution_count": 2,
   "metadata": {},
   "outputs": [],
   "source": [
    "def get_randmask(observed_mask, sample_ratio):\n",
    "        rand_for_mask = torch.rand_like(observed_mask) * observed_mask\n",
    "        rand_for_mask = rand_for_mask.reshape(len(rand_for_mask), -1)\n",
    "        for i in range(len(observed_mask)):\n",
    "            # sample_ratio = 0.2 * np.random.rand()\n",
    "            sample_ratio = sample_ratio\n",
    "            num_observed = observed_mask[i].sum().item()\n",
    "            num_masked = round(num_observed * sample_ratio)\n",
    "            rand_for_mask[i][rand_for_mask[i].topk(num_masked).indices] = -1\n",
    "        cond_mask = (rand_for_mask > 0).reshape(observed_mask.shape).float()\n",
    "        return cond_mask"
   ]
  },
  {
   "cell_type": "code",
   "execution_count": 3,
   "metadata": {},
   "outputs": [
    {
     "name": "stdout",
     "output_type": "stream",
     "text": [
      "['/home/mafzhang/code/Project/CHLA-Imputation-and-Prediction-for-Bay/', '/home/mafzhang/code/Project/CHLA-Imputation-and-Prediction-for-Bay/visualization/PRE', '/home/mafzhang/anaconda3/envs/torch211/lib/python311.zip', '/home/mafzhang/anaconda3/envs/torch211/lib/python3.11', '/home/mafzhang/anaconda3/envs/torch211/lib/python3.11/lib-dynload', '', '/home/mafzhang/.local/lib/python3.11/site-packages', '/home/mafzhang/anaconda3/envs/torch211/lib/python3.11/site-packages']\n"
     ]
    }
   ],
   "source": [
    "import sys\n",
    "import os\n",
    "sys.path.insert(0, \"/home/mafzhang/code/Project/CHLA-Imputation-and-Prediction-for-Bay/\")\n",
    "print(sys.path)\n",
    "from dataset.dataset_imputation import PRE8dDataset"
   ]
  },
  {
   "cell_type": "code",
   "execution_count": 4,
   "metadata": {},
   "outputs": [],
   "source": [
    "import argparse\n",
    "parser = argparse.ArgumentParser(description='Imputation')\n",
    "\n",
    "# args for area and methods\n",
    "parser.add_argument('--area', type=str, default='PRE', help='which bay area we focus')\n",
    "\n",
    "# basic args\n",
    "parser.add_argument('--epochs', type=int, default=500, help='epochs')\n",
    "parser.add_argument('--batch_size', type=int, default=16, help='batch size')\n",
    "parser.add_argument('--lr', type=float, default=1e-3, help='learning rate')\n",
    "parser.add_argument('--wd', type=float, default=1e-4, help='weight decay')\n",
    "parser.add_argument('--test_freq', type=int, default=500, help='test per n epochs')\n",
    "parser.add_argument('--embedding_size', type=int, default=32)\n",
    "parser.add_argument('--hidden_channels', type=int, default=32)\n",
    "parser.add_argument('--diffusion_embedding_size', type=int, default=64)\n",
    "parser.add_argument('--side_channels', type=int, default=1)\n",
    "\n",
    "# args for tasks\n",
    "parser.add_argument('--in_len', type=int, default=46)\n",
    "parser.add_argument('--out_len', type=int, default=46)\n",
    "parser.add_argument('--missing_ratio', type=float, default=0.1)\n",
    "\n",
    "# args for diffusion\n",
    "parser.add_argument('--beta_start', type=float, default=0.0001, help='beta start from this')\n",
    "parser.add_argument('--beta_end', type=float, default=0.2, help='beta end to this')\n",
    "parser.add_argument('--num_steps', type=float, default=50, help='denoising steps')\n",
    "parser.add_argument('--num_samples', type=int, default=10, help='n datasets')\n",
    "parser.add_argument('--schedule', type=str, default='quad', help='noise schedule type')\n",
    "parser.add_argument('--target_strategy', type=str, default='random', help='mask')\n",
    "\n",
    "# args for mae\n",
    "parser.add_argument('--num_heads', type=int, default=8, help='n heads for self attention')\n",
    "config = parser.parse_args([])"
   ]
  },
  {
   "cell_type": "code",
   "execution_count": 6,
   "metadata": {},
   "outputs": [],
   "source": [
    "from torch.utils.data import DataLoader\n",
    "test_dloader = DataLoader(PRE8dDataset(config, mode='test'), 1, shuffle=True)"
   ]
  },
  {
   "cell_type": "code",
   "execution_count": 8,
   "metadata": {},
   "outputs": [],
   "source": [
    "datas, data_ob_masks, data_gt_masks, labels, label_masks = next(iter(test_dloader))"
   ]
  },
  {
   "cell_type": "code",
   "execution_count": 9,
   "metadata": {},
   "outputs": [],
   "source": [
    "device = \"cuda\"\n",
    "datas, data_ob_masks, data_gt_masks, labels, label_masks = datas.float().to(device), data_ob_masks.to(device), data_gt_masks.to(device), labels.to(device), label_masks.to(device)"
   ]
  },
  {
   "cell_type": "code",
   "execution_count": 10,
   "metadata": {},
   "outputs": [
    {
     "data": {
      "text/plain": [
       "tensor([[[[ 0.0000,  0.0000,  0.0000,  ..., -0.9652, -0.9624, -0.9683]],\n",
       "\n",
       "         [[ 0.0000,  0.0000,  0.0000,  ..., -1.0080, -1.0046, -1.0187]],\n",
       "\n",
       "         [[ 0.0000,  0.0000,  0.0000,  ...,  0.0000,  0.0000,  0.0000]],\n",
       "\n",
       "         ...,\n",
       "\n",
       "         [[ 0.0000,  0.0000,  0.0000,  ..., -0.6990, -0.7080, -0.7348]],\n",
       "\n",
       "         [[ 0.0000,  0.0000,  0.0000,  ..., -0.7318, -0.7289, -0.7141]],\n",
       "\n",
       "         [[ 0.0000,  0.0000,  0.0000,  ..., -0.8799, -0.8925, -0.8345]]]],\n",
       "       device='cuda:0')"
      ]
     },
     "execution_count": 10,
     "metadata": {},
     "output_type": "execute_result"
    }
   ],
   "source": [
    "model = torch.load(\"/\")"
   ]
  }
 ],
 "metadata": {
  "kernelspec": {
   "display_name": "torch211",
   "language": "python",
   "name": "python3"
  },
  "language_info": {
   "codemirror_mode": {
    "name": "ipython",
    "version": 3
   },
   "file_extension": ".py",
   "mimetype": "text/x-python",
   "name": "python",
   "nbconvert_exporter": "python",
   "pygments_lexer": "ipython3",
   "version": "3.11.5"
  }
 },
 "nbformat": 4,
 "nbformat_minor": 2
}
