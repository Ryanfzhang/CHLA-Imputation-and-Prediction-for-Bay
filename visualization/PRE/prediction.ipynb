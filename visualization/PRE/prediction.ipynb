{
 "cells": [
  {
   "cell_type": "code",
   "execution_count": 1,
   "metadata": {},
   "outputs": [],
   "source": [
    "import h5py\n",
    "import scipy\n",
    "import numpy as np\n",
    "import torch"
   ]
  },
  {
   "cell_type": "code",
   "execution_count": null,
   "metadata": {},
   "outputs": [],
   "source": [
    "import h5py\n",
    "import scipy\n",
    "import numpy as np\n",
    "import torch"
   ]
  },
  {
   "cell_type": "code",
   "execution_count": 2,
   "metadata": {},
   "outputs": [],
   "source": [
    "base_dir = \"/home/mafzhang/code/Project/CHLA-Imputation-and-Prediction-for-Bay/log/prediction/PRE/\""
   ]
  },
  {
   "cell_type": "code",
   "execution_count": 3,
   "metadata": {},
   "outputs": [],
   "source": [
    "label = np.load(\"/home/mafzhang/data/PRE/8d/trues.npy\")\n",
    "label_masks = np.load(\"/home/mafzhang/data/PRE/8d/true_masks.npy\")"
   ]
  },
  {
   "cell_type": "code",
   "execution_count": 4,
   "metadata": {},
   "outputs": [],
   "source": [
    "prediction_xg = np.load(base_dir+\"XGBoost/with_imputation/prediction.npy\", allow_pickle=True)\n",
    "prediction_xg_wo = np.load(base_dir+\"XGBoost/without_imputation/prediction_0.npy\", allow_pickle=True)\n",
    "prediction_our = np.load(base_dir+\"GraphTransformer/with_imputation/prediction.npy\", allow_pickle=True)\n",
    "prediction_our_wo = np.load(base_dir+\"GraphTransformer/without_imputation/prediction_0.npy\", allow_pickle=True)\n",
    "prediction_mtgnn = np.load(base_dir+\"MTGNN/with_imputation/prediction.npy\", allow_pickle=True)\n",
    "prediction_mtgnn_wo = np.load(base_dir+\"MTGNN/without_imputation/prediction_0.npy\", allow_pickle=True)\n",
    "prediction_tsmixer = np.load(base_dir+\"TSMixer/with_imputation/prediction.npy\", allow_pickle=True)\n",
    "prediction_tsmixer_wo = np.load(base_dir+\"TSMixer/without_imputation/prediction_0.npy\", allow_pickle=True)\n",
    "prediction_crossformer = np.load(base_dir+\"CrossFormer/with_imputation/prediction.npy\", allow_pickle=True)\n",
    "prediction_crossformer_wo = np.load(base_dir+\"CrossFormer/without_imputation/prediction_0.npy\", allow_pickle=True)\n",
    "prediction_iTransformer = np.load(base_dir+\"iTransformer/with_imputation/prediction.npy\", allow_pickle=True)\n",
    "prediction_iTransformer_wo = np.load(base_dir+\"iTransformer/without_imputation/prediction_0.npy\", allow_pickle=True)\n",
    "prediction_predrnn = np.load(base_dir+\"PredRNN/with_imputation/prediction.npy\", allow_pickle=True)\n",
    "prediction_predrnn_wo = np.load(base_dir+\"PredRNN/without_imputation/prediction_0.npy\", allow_pickle=True)\n",
    "prediction_pde = np.load(\"/home/mafzhang/data/PRE/8d/cmmos.npy\")"
   ]
  },
  {
   "cell_type": "code",
   "execution_count": 5,
   "metadata": {},
   "outputs": [
    {
     "name": "stdout",
     "output_type": "stream",
     "text": [
      "(329, 10, 46, 4443)\n",
      "(329, 10, 46, 4443)\n"
     ]
    }
   ],
   "source": [
    "print(prediction_iTransformer.shape)\n",
    "print(prediction_predrnn.shape)"
   ]
  },
  {
   "cell_type": "code",
   "execution_count": 6,
   "metadata": {},
   "outputs": [],
   "source": [
    "label_masks = label_masks.squeeze()\n",
    "label = label.squeeze()\n",
    "label = torch.from_numpy(label)\n",
    "label_masks = torch.from_numpy(label_masks)"
   ]
  },
  {
   "cell_type": "code",
   "execution_count": 7,
   "metadata": {},
   "outputs": [],
   "source": [
    "prediction_our = torch.from_numpy(prediction_our).squeeze()\n",
    "prediction_our_wo = torch.from_numpy(prediction_our_wo).squeeze()\n",
    "prediction_xg = torch.from_numpy(prediction_xg).squeeze().median(1).values\n",
    "prediction_xg_wo = torch.from_numpy(prediction_xg_wo).squeeze()\n",
    "prediction_tsmixer = torch.from_numpy(prediction_tsmixer).squeeze().median(1).values\n",
    "prediction_tsmixer_wo = torch.from_numpy(prediction_tsmixer_wo).squeeze()\n",
    "prediction_mtgnn = torch.from_numpy(prediction_mtgnn).squeeze().median(1).values\n",
    "prediction_mtgnn_wo = torch.from_numpy(prediction_mtgnn_wo).squeeze()\n",
    "prediction_crossformer = torch.from_numpy(prediction_crossformer).squeeze().median(1).values\n",
    "prediction_crossformer_wo = torch.from_numpy(prediction_crossformer_wo).squeeze()\n",
    "prediction_iTransformer = torch.from_numpy(prediction_iTransformer).squeeze().median(1).values\n",
    "prediction_iTransformer_wo = torch.from_numpy(prediction_iTransformer_wo).squeeze()\n",
    "prediction_predrnn = torch.from_numpy(prediction_predrnn).squeeze().median(1).values\n",
    "prediction_predrnn_wo = torch.from_numpy(prediction_predrnn_wo).squeeze()\n",
    "prediction_pde = torch.from_numpy(prediction_pde)"
   ]
  },
  {
   "cell_type": "code",
   "execution_count": 8,
   "metadata": {},
   "outputs": [
    {
     "name": "stdout",
     "output_type": "stream",
     "text": [
      "torch.Size([329, 46, 4443])\n"
     ]
    }
   ],
   "source": [
    "print(label.shape)"
   ]
  },
  {
   "cell_type": "code",
   "execution_count": 9,
   "metadata": {},
   "outputs": [
    {
     "name": "stdout",
     "output_type": "stream",
     "text": [
      "0.06993641\n",
      "0.09210903\n",
      "0.16544265\n",
      "0.18463\n",
      "0.08785449\n",
      "0.13500492\n",
      "0.0943762\n",
      "0.09274674\n",
      "0.17269786\n",
      "torch.Size([329, 46, 4443])\n",
      "0.076733105\n",
      "0.17230226\n",
      "0.09890262\n",
      "0.08998027\n",
      "0.36186748716981854\n"
     ]
    }
   ],
   "source": [
    "mse_our= (((prediction_our.mean(1)- label)*label_masks)**2).sum([0,1])/(label_masks.sum([0,1])+1e-5)\n",
    "print(np.nanmean(mse_our))\n",
    "mse_our_wo = (((prediction_our_wo - label)*label_masks)**2).sum([0,1])/(label_masks.sum([0,1])+1e-5)\n",
    "print(np.nanmean(mse_our_wo))\n",
    "\n",
    "mse_xg = (((prediction_xg - label)*label_masks)**2).sum([0,1])/(label_masks.sum([0,1])+1e-5)\n",
    "print(np.nanmean(mse_xg))\n",
    "mse_xg_wo = (((prediction_xg_wo - label)*label_masks)**2).sum([0,1])/(label_masks.sum([0,1])+1e-5)\n",
    "print(np.nanmean(mse_xg_wo))\n",
    "\n",
    "mse_tsmixer = (((prediction_tsmixer- label)*label_masks)**2).sum([0,1])/(label_masks.sum([0,1])+1e-5)\n",
    "print(np.nanmean(mse_tsmixer))\n",
    "mse_tsmixer_wo = (((prediction_tsmixer_wo - label)*label_masks)**2).sum([0,1])/(label_masks.sum([0,1])+1e-5)\n",
    "print(np.nanmean(mse_tsmixer_wo))\n",
    "\n",
    "mse_crossformer = (((prediction_crossformer- label)*label_masks)**2).sum([0,1])/(label_masks.sum([0,1])+1e-5)\n",
    "print(np.nanmean(mse_crossformer))\n",
    "mse_crossformer_wo = (((prediction_crossformer_wo - label)*label_masks)**2).sum([0,1])/(label_masks.sum([0,1])+1e-5)\n",
    "\n",
    "mse_mtgnn = (((prediction_mtgnn - label)*label_masks)**2).sum([0,1])/(label_masks.sum([0,1])+1e-5)\n",
    "print(np.nanmean(mse_mtgnn))\n",
    "mse_mtgnn_wo = (((prediction_mtgnn_wo - label)*label_masks)**2).sum([0,1])/(label_masks.sum([0,1])+1e-5)\n",
    "print(np.nanmean(mse_mtgnn_wo))\n",
    "\n",
    "print(prediction_iTransformer.shape)\n",
    "mse_iTransformer = (((prediction_iTransformer - label)*label_masks)**2).sum([0,1])/(label_masks.sum([0,1])+1e-5)\n",
    "print(np.nanmean(mse_iTransformer))\n",
    "mse_iTransformer_wo = (((prediction_iTransformer_wo - label)*label_masks)**2).sum([0,1])/(label_masks.sum([0,1])+1e-5)\n",
    "print(np.nanmean(mse_iTransformer_wo))\n",
    "\n",
    "mse_predrnn = (((prediction_predrnn - label)*label_masks)**2).sum([0,1])/(label_masks.sum([0,1])+1e-5)\n",
    "print(np.nanmean(mse_predrnn))\n",
    "mse_predrnn_wo = (((prediction_predrnn_wo - label)*label_masks)**2).sum([0,1])/(label_masks.sum([0,1])+1e-5)\n",
    "print(np.nanmean(mse_predrnn_wo))\n",
    "\n",
    "mse_pde = (((prediction_pde- label[:322,0])*label_masks[:322,0])**2).sum(0)/(label_masks[:322,0].sum(0)+1e-5)\n",
    "print(np.nanmean(mse_pde))"
   ]
  },
  {
   "cell_type": "code",
   "execution_count": 10,
   "metadata": {},
   "outputs": [
    {
     "data": {
      "image/png": "[encoded data removed]",
      "text/plain": [
       "<Figure size 300x700 with 1 Axes>"
      ]
     },
     "metadata": {},
     "output_type": "display_data"
    }
   ],
   "source": [
    "import seaborn as sns\n",
    "import pandas as pd\n",
    "import matplotlib.pyplot as plt\n",
    "import matplotlib.ticker as mtick\n",
    "from matplotlib.pyplot import MultipleLocator\n",
    "\n",
    "sns.set(style=\"whitegrid\")\n",
    "figure = plt.figure(figsize=(3,7))\n",
    "ax = figure.add_subplot(111)\n",
    "value = np.array([np.nanmean(mse_xg),np.nanmean(mse_mtgnn), np.nanmean(mse_crossformer), np.nanmean(mse_tsmixer), np.nanmean(mse_iTransformer), np.nanmean(mse_predrnn), np.nanmean(mse_our)])\n",
    "category = np.array(['XGBoost', \"MTGNN\", \"CrossFormer\", \"TSMixer\", \"iTransFormer\", \"PredRNN\", \"Our\"])\n",
    "# value = value.reshape(-1)\n",
    "# category = category.T\n",
    "# category = category.reshape(-1)\n",
    "color= sns.color_palette()[:7]\n",
    "color = color[::-1]\n",
    "# plot(x=category, y=value, showfliers=False)\n",
    "x_major_locator=MultipleLocator(0.1)\n",
    "ax.xaxis.set_major_locator(x_major_locator)\n",
    "ax.xaxis.set_major_formatter(mtick.FormatStrFormatter('%.1f'))\n",
    "plt.barh(category, value, color=color)\n",
    "plt.yticks([])\n",
    "plt.xticks(rotation=30)\n",
    "plt.tight_layout()"
   ]
  },
  {
   "cell_type": "code",
   "execution_count": 11,
   "metadata": {},
   "outputs": [
    {
     "name": "stdout",
     "output_type": "stream",
     "text": [
      "torch.Size([4443])\n",
      "torch.Size([4443])\n"
     ]
    }
   ],
   "source": [
    "print(mse_pde.shape)\n",
    "print(mse_xg_wo.shape)"
   ]
  },
  {
   "cell_type": "code",
   "execution_count": 12,
   "metadata": {},
   "outputs": [],
   "source": [
    "import pandas as pd\n",
    "import numpy as np\n",
    "category = []\n",
    "# category.extend(['CMMOS' for i in range(4443)])\n",
    "category.extend(['XGBoost' for i in range(4443)])\n",
    "# category.extend(['XGBoost' for i in range(4443)])\n",
    "category.extend(['MTGNN' for i in range(4443)])\n",
    "# category.extend(['MTGNN' for i in range(4443)])\n",
    "category.extend(['CrossFormer' for i in range(4443)])\n",
    "# category.extend(['CrossFormer' for i in range(4443)])\n",
    "category.extend(['TSMixer' for i in range(4443)])\n",
    "# category.extend(['TSMixer' for i in range(4443)])\n",
    "category.extend(['iTransformer' for i in range(4443)])\n",
    "# category.extend(['iTransformer' for i in range(4443)])\n",
    "category.extend(['PredRNN' for i in range(4443)])\n",
    "# category.extend(['PredRNN' for i in range(4443)])\n",
    "category.extend(['Our' for i in range(4443)])\n",
    "# category.extend(['Our' for i in range(4443)])\n",
    "# imputation = []\n",
    "# imputation.extend(['NA' for i in range(4443)])\n",
    "# imputation.extend(['No' for i in range(4443)])\n",
    "# imputation.extend(['Yes' for i in range(4443)])\n",
    "# imputation.extend(['No' for i in range(4443)])\n",
    "# imputation.extend(['Yes' for i in range(4443)])\n",
    "# imputation.extend(['No' for i in range(4443)])\n",
    "# imputation.extend(['Yes' for i in range(4443)])\n",
    "# imputation.extend(['No' for i in range(4443)])\n",
    "# imputation.extend(['Yes' for i in range(4443)])\n",
    "# imputation.extend(['No' for i in range(4443)])\n",
    "# imputation.extend(['Yes' for i in range(4443)])\n",
    "# imputation.extend(['No' for i in range(4443)])\n",
    "# imputation.extend(['Yes' for i in range(4443)])\n",
    "# imputation.extend(['No' for i in range(4443)])\n",
    "# imputation.extend(['Yes' for i in range(4443)])\n",
    "data = {'mse': np.concatenate([mse_xg_wo.numpy(), mse_mtgnn_wo.numpy(), mse_crossformer_wo.numpy(), mse_tsmixer_wo.numpy(), mse_iTransformer_wo.numpy(), mse_predrnn_wo.numpy(),  mse_our.numpy()],0),\n",
    "        'methods':category}\n",
    "        # 'imputation':imputation}\n",
    "data = pd.DataFrame.from_dict(data)"
   ]
  },
  {
   "cell_type": "code",
   "execution_count": 13,
   "metadata": {},
   "outputs": [
    {
     "name": "stdout",
     "output_type": "stream",
     "text": [
      "['#96ABDC', '#9EC5CC', '#BFDAB6', '#F1CFB0', '#4E5E7B', '#80AE6B', '#F8766D']\n"
     ]
    },
    {
     "name": "stderr",
     "output_type": "stream",
     "text": [
      "/tmp/ipykernel_1351831/3072723530.py:11: FutureWarning: \n",
      "\n",
      "Passing `palette` without assigning `hue` is deprecated and will be removed in v0.14.0. Assign the `x` variable to `hue` and set `legend=False` for the same effect.\n",
      "\n",
      "  g = sns.boxplot(x='methods', y='mse', linewidth=2,showfliers=False,showmeans=True,data=data,palette=color, meanprops={\n"
     ]
    },
    {
     "data": {
      "image/png": "[encoded data removed]",
      "text/plain": [
       "<Figure size 640x480 with 1 Axes>"
      ]
     },
     "metadata": {},
     "output_type": "display_data"
    }
   ],
   "source": [
    "import seaborn as sns\n",
    "import pandas as pd\n",
    "import numpy as np\n",
    "import matplotlib.pyplot as plt\n",
    "\n",
    "sns.set(style=\"whitegrid\")\n",
    "plt.xticks(rotation=30)\n",
    "# color= sns.color_palette()[:7][::-1]\n",
    "color = [\"#F8766D\", \"#80AE6B\", \"#4E5E7B\",  \"#F1CFB0\", \"#BFDAB6\", \"#9EC5CC\", \"#96ABDC\"][::-1]\n",
    "print(color)\n",
    "g = sns.boxplot(x='methods', y='mse', linewidth=2,showfliers=False,showmeans=True,data=data,palette=color, meanprops={\n",
    "                       \"markerfacecolor\": \"red\",\n",
    "                       \"markeredgecolor\": \"black\",\n",
    "                       \"markersize\": \"6\"})"
   ]
  },
  {
   "cell_type": "code",
   "execution_count": 14,
   "metadata": {},
   "outputs": [
    {
     "name": "stdout",
     "output_type": "stream",
     "text": [
      "tensor(16)\n"
     ]
    }
   ],
   "source": [
    "print((mse_our==0).sum())"
   ]
  },
  {
   "cell_type": "code",
   "execution_count": 15,
   "metadata": {},
   "outputs": [
    {
     "name": "stdout",
     "output_type": "stream",
     "text": [
      "0.1944275\n",
      "0.22710621\n",
      "0.33963645\n",
      "0.35655594\n",
      "0.23515518\n",
      "0.29954606\n",
      "0.24393806\n",
      "0.31450367\n",
      "0.24239285\n",
      "0.34601954\n",
      "0.20681943\n",
      "0.34509417\n",
      "0.24297844\n",
      "0.22148255\n"
     ]
    }
   ],
   "source": [
    "mae_our= ((np.abs(prediction_our.mean(1)- label)*label_masks)).sum([0,1])/(label_masks.sum([0,1])+1e-5)\n",
    "print(np.nanmean(mae_our))\n",
    "mae_our_wo = ((np.abs(prediction_our_wo - label)*label_masks)).sum([0,1])/(label_masks.sum([0,1])+1e-5)\n",
    "print(np.nanmean(mae_our_wo))\n",
    "\n",
    "mae_xg = ((np.abs(prediction_xg - label)*label_masks)).sum([0,1])/(label_masks.sum([0,1])+1e-5)\n",
    "print(np.nanmean(mae_xg))\n",
    "mae_xg_wo = ((np.abs(prediction_xg_wo - label)*label_masks)).sum([0,1])/(label_masks.sum([0,1])+1e-5)\n",
    "print(np.nanmean(mae_xg_wo))\n",
    "\n",
    "mae_tsmixer = ((np.abs(prediction_tsmixer- label)*label_masks)).sum([0,1])/(label_masks.sum([0,1])+1e-5)\n",
    "print(np.nanmean(mae_tsmixer))\n",
    "mae_tsmixer_wo = ((np.abs(prediction_tsmixer_wo - label)*label_masks)).sum([0,1])/(label_masks.sum([0,1])+1e-5)\n",
    "print(np.nanmean(mae_tsmixer_wo))\n",
    "\n",
    "mae_crossformer = ((np.abs(prediction_crossformer- label)*label_masks)).sum([0,1])/(label_masks.sum([0,1])+1e-5)\n",
    "print(np.nanmean(mae_crossformer))\n",
    "mae_crossformer_wo = ((np.abs(prediction_crossformer_wo - label)*label_masks)).sum([0,1])/(label_masks.sum([0,1])+1e-5)\n",
    "print(np.nanmean(mae_crossformer_wo))\n",
    "\n",
    "mae_mtgnn = ((np.abs(prediction_mtgnn - label)*label_masks)).sum([0,1])/(label_masks.sum([0,1])+1e-5)\n",
    "print(np.nanmean(mae_mtgnn))\n",
    "mae_mtgnn_wo = ((np.abs(prediction_mtgnn_wo - label)*label_masks)).sum([0,1])/(label_masks.sum([0,1])+1e-5)\n",
    "print(np.nanmean(mae_mtgnn_wo))\n",
    "\n",
    "mae_iTransformer = ((np.abs(prediction_iTransformer - label)*label_masks)).sum([0,1])/(label_masks.sum([0,1])+1e-5)\n",
    "print(np.nanmean(mae_iTransformer))\n",
    "mae_iTransformer_wo = ((np.abs(prediction_iTransformer_wo- label)*label_masks)).sum([0,1])/(label_masks.sum([0,1])+1e-5)\n",
    "print(np.nanmean(mae_iTransformer_wo))\n",
    "\n",
    "mae_predrnn = ((np.abs(prediction_predrnn - label)*label_masks)).sum([0,1])/(label_masks.sum([0,1])+1e-5)\n",
    "print(np.nanmean(mae_predrnn))\n",
    "mae_predrnn_wo = ((np.abs(prediction_predrnn_wo - label)*label_masks)).sum([0,1])/(label_masks.sum([0,1])+1e-5)\n",
    "print(np.nanmean(mae_predrnn_wo))\n",
    "\n",
    "mae_pde = ((np.abs(prediction_pde - label[:322,0])*label_masks[:322,0])).sum(0)/(label_masks[:322,0].sum(0)+1e-5)"
   ]
  },
  {
   "cell_type": "code",
   "execution_count": 16,
   "metadata": {},
   "outputs": [],
   "source": [
    "mae_our[mae_our==0]=np.nan\n",
    "mae_xg_wo[mae_xg_wo==0]=np.nan\n",
    "mae_crossformer_wo[mae_crossformer_wo==0]=np.nan\n",
    "mae_mtgnn_wo[mae_mtgnn_wo==0]=np.nan\n",
    "mae_tsmixer_wo[mae_tsmixer_wo==0]=np.nan\n",
    "mae_iTransformer_wo[mae_iTransformer_wo==0]=np.nan\n",
    "mae_predrnn_wo[mae_predrnn_wo==0]=np.nan"
   ]
  },
  {
   "cell_type": "code",
   "execution_count": 17,
   "metadata": {},
   "outputs": [
    {
     "data": {
      "image/png": "[encoded data removed]",
      "text/plain": [
       "<Figure size 500x700 with 1 Axes>"
      ]
     },
     "metadata": {},
     "output_type": "display_data"
    }
   ],
   "source": [
    "import seaborn as sns\n",
    "import pandas as pd\n",
    "import matplotlib.pyplot as plt\n",
    "import matplotlib.ticker as mtick\n",
    "from matplotlib.pyplot import MultipleLocator\n",
    "\n",
    "sns.set(style=\"whitegrid\")\n",
    "figure = plt.figure(figsize=(5,7))\n",
    "ax = figure.add_subplot(111)\n",
    "value = np.array([np.nanmean(mae_xg),np.nanmean(mae_mtgnn), np.nanmean(mae_crossformer), np.nanmean(mae_tsmixer), np.nanmean(mae_iTransformer), np.nanmean(mae_predrnn), np.nanmean(mae_our)])\n",
    "category = np.array(['XGBoost', \"MTGNN\", \"CrossFormer\", \"TSMixer\", \"iTransFormer\", \"PredRNN\", \"Our\"])\n",
    "# value = value.reshape(-1)\n",
    "# category = category.T\n",
    "# category = category.reshape(-1)\n",
    "color= sns.color_palette()[:7]\n",
    "color = color[::-1]\n",
    "# plot(x=category, y=value, showfliers=False)\n",
    "x_major_locator=MultipleLocator(0.1)\n",
    "ax.xaxis.set_major_locator(x_major_locator)\n",
    "ax.xaxis.set_major_formatter(mtick.FormatStrFormatter('%.1f'))\n",
    "plt.barh(category, value, color=color)\n",
    "plt.yticks([])\n",
    "plt.xticks(rotation=30)\n",
    "plt.tight_layout()"
   ]
  },
  {
   "cell_type": "code",
   "execution_count": 18,
   "metadata": {},
   "outputs": [],
   "source": [
    "import pandas as pd\n",
    "import numpy as np\n",
    "category = []\n",
    "category.extend(['CMOMS' for i in range(4443)])\n",
    "category.extend(['XGBoost' for i in range(4443)])\n",
    "category.extend(['MTGNN' for i in range(4443)])\n",
    "category.extend(['CrossFormer' for i in range(4443)])\n",
    "category.extend(['TSMixer' for i in range(4443)])\n",
    "category.extend(['iTransformer' for i in range(4443)])\n",
    "category.extend(['PredRNN' for i in range(4443)])\n",
    "category.extend(['Our' for i in range(4443)])\n",
    "data = {'mae': np.concatenate([ mae_pde.numpy(), mae_xg_wo.numpy(), mae_mtgnn_wo.numpy(), mae_crossformer_wo.numpy(), mae_tsmixer_wo.numpy(), mae_iTransformer_wo.numpy(), mae_predrnn_wo.numpy(),  mae_our.numpy()],0),\n",
    "        'methods':category}\n",
    "data = pd.DataFrame.from_dict(data)"
   ]
  },
  {
   "cell_type": "code",
   "execution_count": 19,
   "metadata": {},
   "outputs": [
    {
     "name": "stderr",
     "output_type": "stream",
     "text": [
      "No artists with labels found to put in legend.  Note that artists whose label start with an underscore are ignored when legend() is called with no argument.\n"
     ]
    },
    {
     "data": {
      "text/plain": [
       "([], [])"
      ]
     },
     "execution_count": 19,
     "metadata": {},
     "output_type": "execute_result"
    },
    {
     "data": {
      "image/png": "[encoded data removed]",
      "text/plain": [
       "<Figure size 640x480 with 1 Axes>"
      ]
     },
     "metadata": {},
     "output_type": "display_data"
    }
   ],
   "source": [
    "import seaborn as sns\n",
    "import pandas as pd\n",
    "import numpy as np\n",
    "import matplotlib.pyplot as plt\n",
    "\n",
    "sns.set(style=\"whitegrid\")\n",
    "plt.xticks(rotation=30)\n",
    "# color= sns.color_palette()[:7][::-1]\n",
    "color = [\"#F8766D\", \"#80AE6B\", \"#4E5E7B\",  \"#F1CFB0\", \"#BFDAB6\", \"#9EC5CC\", \"#96ABDC\", \"#FC8002\"][::-1]\n",
    "\n",
    "g = sns.boxplot(data=data, x='methods', y='mae', hue=\"methods\", linewidth=2, showfliers=False,showmeans=True,palette=color, meanprops={\n",
    "                       \"markerfacecolor\": \"red\",\n",
    "                       \"markeredgecolor\": \"black\",\n",
    "                       \"markersize\": \"6\"})\n",
    "g.legend(loc=\"upper right\", bbox_to_anchor=(1.05,1.05))\n",
    "plt.xticks([])"
   ]
  },
  {
   "cell_type": "code",
   "execution_count": 32,
   "metadata": {},
   "outputs": [
    {
     "data": {
      "text/plain": [
       "<matplotlib.legend.Legend at 0x7ff13e713e90>"
      ]
     },
     "execution_count": 32,
     "metadata": {},
     "output_type": "execute_result"
    },
    {
     "data": {
      "image/png": "[encoded data removed]",
      "text/plain": [
       "<Figure size 1200x1200 with 1 Axes>"
      ]
     },
     "metadata": {},
     "output_type": "display_data"
    }
   ],
   "source": [
    "color = [\"#F8766D\", \"#80AE6B\", \"#4E5E7B\",  \"#F1CFB0\", \"#BFDAB6\", \"#9EC5CC\", \"#96ABDC\", \"#FC8002\"][::-1]\n",
    "x = ['CMOMS', \"XGBoost\", \"MTGNN\", \"CrossFormer\", \"TSMixer\", \"iTransFormer\", \"PredRNN\", \"STImp\"]\n",
    "y = np.random.randn(len(x))\n",
    "fig, ax = plt.subplots(figsize=(12, 12))\n",
    "for i in range(len(x)):\n",
    "        values = y[i]\n",
    "        ax.bar(i, values, linewidth=4, linestyle=\"solid\", label=x[i], color=color[i%len(color)])\n",
    "ax.legend(loc=\"upper right\", bbox_to_anchor=(1.4,1.4))"
   ]
  },
  {
   "cell_type": "code",
   "execution_count": 20,
   "metadata": {},
   "outputs": [],
   "source": [
    "prediction_xg = np.load(base_dir+\"XGBoost/with_imputation/prediction.npy\", allow_pickle=True)\n",
    "prediction_xg_wo = np.load(base_dir+\"XGBoost/without_imputation/prediction_0.npy\", allow_pickle=True)\n",
    "prediction_our = np.load(base_dir+\"GraphTransformer/with_imputation/prediction.npy\", allow_pickle=True)\n",
    "prediction_our_wo = np.load(base_dir+\"GraphTransformer/without_imputation/prediction_0.npy\", allow_pickle=True)\n",
    "prediction_mtgnn = np.load(base_dir+\"MTGNN/with_imputation/prediction.npy\", allow_pickle=True)\n",
    "prediction_mtgnn_wo = np.load(base_dir+\"MTGNN/without_imputation/prediction_0.npy\", allow_pickle=True)\n",
    "prediction_tsmixer = np.load(base_dir+\"TSMixer/with_imputation/prediction.npy\", allow_pickle=True)\n",
    "prediction_tsmixer_wo = np.load(base_dir+\"TSMixer/without_imputation/prediction_0.npy\", allow_pickle=True)\n",
    "prediction_crossformer = np.load(base_dir+\"CrossFormer/with_imputation/prediction.npy\", allow_pickle=True)\n",
    "prediction_crossformer_wo = np.load(base_dir+\"CrossFormer/without_imputation/prediction_0.npy\", allow_pickle=True)"
   ]
  },
  {
   "cell_type": "code",
   "execution_count": 21,
   "metadata": {},
   "outputs": [],
   "source": [
    "prediction_our = torch.from_numpy(prediction_our).squeeze()\n",
    "prediction_our_wo = torch.from_numpy(prediction_our_wo).squeeze()\n",
    "prediction_xg = torch.from_numpy(prediction_xg).squeeze()\n",
    "prediction_xg_wo = torch.from_numpy(prediction_xg_wo).squeeze()\n",
    "prediction_tsmixer = torch.from_numpy(prediction_tsmixer).squeeze()\n",
    "prediction_tsmixer_wo = torch.from_numpy(prediction_tsmixer_wo).squeeze()\n",
    "prediction_mtgnn = torch.from_numpy(prediction_mtgnn).squeeze()\n",
    "prediction_mtgnn_wo = torch.from_numpy(prediction_mtgnn_wo).squeeze()\n",
    "prediction_crossformer = torch.from_numpy(prediction_crossformer).squeeze()\n",
    "prediction_crossformer_wo = torch.from_numpy(prediction_crossformer_wo).squeeze()"
   ]
  },
  {
   "cell_type": "code",
   "execution_count": null,
   "metadata": {},
   "outputs": [],
   "source": [
    "index = [46*i for i in range(306//46)]\n",
    "prediction_our[index].shape"
   ]
  },
  {
   "cell_type": "code",
   "execution_count": null,
   "metadata": {},
   "outputs": [],
   "source": [
    "from copy import deepcopy\n",
    "import seaborn as sns\n",
    "import matplotlib.pyplot as plt\n",
    "n=500\n",
    "\n",
    "index = [46*i for i in range(306//46)]\n",
    "tmp  = deepcopy(label[index].reshape(276,-1))\n",
    "tmp_mask  = deepcopy(label_masks[index].reshape(276,-1))\n",
    "tmp[~tmp_mask.bool()]=np.nan\n",
    "plt.scatter(np.arange(276), tmp[:,n], c='red', s=10,label=\"Observed\")\n",
    "\n",
    "predict = deepcopy(prediction_our[index].transpose(1,2).reshape(276,10,4443))\n",
    "predict = predict[:,:,n]\n",
    "mean = predict.mean(1)\n",
    "std = predict.std(1)\n",
    "\n",
    "plt.plot(np.arange(276), mean, label=\"Our\")\n",
    "plt.fill_between(np.arange(276), mean-std, mean+std, alpha=0.3)\n",
    "\n",
    "plt.legend()\n",
    "plt.ylabel(\"CHLA\")\n",
    "plt.ylim(-0.5,1.5)\n",
    "plt.show()"
   ]
  },
  {
   "cell_type": "code",
   "execution_count": null,
   "metadata": {},
   "outputs": [],
   "source": [
    "from copy import deepcopy\n",
    "import seaborn as sns\n",
    "import matplotlib.pyplot as plt\n",
    "n= 500\n",
    "\n",
    "index = [46*i for i in range(306//46)]\n",
    "tmp  = deepcopy(label[index].reshape(276,-1))\n",
    "tmp_mask  = deepcopy(label_masks[index].reshape(276,-1))\n",
    "tmp[~tmp_mask.bool()]=np.nan\n",
    "plt.scatter(np.arange(276), tmp[:,n], c='red', s=10,label=\"Observed\")\n",
    "\n",
    "print(prediction_iTransformer_wo[0,0,:])\n",
    "predict = deepcopy(prediction_our_wo[index].transpose(1,2).reshape(276,1,4443))\n",
    "predict = predict[:,:,n]\n",
    "# mean = predict.mean(1)\n",
    "# std = predict.std(1)\n",
    "\n",
    "plt.plot(np.arange(276), predict, label=\"Our\")\n",
    "# plt.fill_between(np.arange(276), mean-3*std, mean+3*std, alpha=0.3)\n",
    "\n",
    "plt.legend()\n",
    "plt.ylabel(\"CHLA\")\n",
    "plt.ylim(-0.5,1.5)\n",
    "plt.show()"
   ]
  },
  {
   "cell_type": "code",
   "execution_count": null,
   "metadata": {},
   "outputs": [],
   "source": [
    "from copy import deepcopy\n",
    "import seaborn as sns\n",
    "import matplotlib.pyplot as plt\n",
    "n= 500\n",
    "\n",
    "index = [46*i for i in range(306//46)]\n",
    "tmp  = deepcopy(label[index].reshape(276,-1))\n",
    "tmp_mask  = deepcopy(label_masks[index].reshape(276,-1))\n",
    "tmp[~tmp_mask.bool()]=np.nan\n",
    "plt.scatter(np.arange(276), tmp[:,n], c='red', s=10,label=\"Observed\")\n",
    "\n",
    "predict = deepcopy(prediction_xg[index].transpose(1,2).reshape(276,10,2907))\n",
    "print(predict.shape)\n",
    "predict = predict[:,:,n]\n",
    "mean = predict.mean(1)\n",
    "std = predict.std(1)\n",
    "\n",
    "plt.plot(np.arange(276), mean, label=\"XGBoost\")\n",
    "plt.fill_between(np.arange(276), mean-std, mean+std, alpha=0.3)\n",
    "\n",
    "plt.legend()\n",
    "plt.ylabel(\"CHLA\")\n",
    "plt.ylim(-0.5,1.5)\n",
    "plt.show()"
   ]
  },
  {
   "cell_type": "code",
   "execution_count": null,
   "metadata": {},
   "outputs": [],
   "source": [
    "from copy import deepcopy\n",
    "import seaborn as sns\n",
    "import matplotlib.pyplot as plt\n",
    "n= 500\n",
    "\n",
    "index = [46*i for i in range(306//46)]\n",
    "tmp  = deepcopy(label[index].reshape(276,-1))\n",
    "tmp_mask  = deepcopy(label_masks[index].reshape(276,-1))\n",
    "tmp[~tmp_mask.bool()]=np.nan\n",
    "plt.scatter(np.arange(276), tmp[:,n], c='red', s=10,label=\"Observed\")\n",
    "\n",
    "predict = deepcopy(prediction_tsmixer[index].transpose(1,2).reshape(276,10,2907))\n",
    "print(predict.shape)\n",
    "predict = predict[:,:,n]\n",
    "mean = predict.mean(1)\n",
    "std = predict.std(1)\n",
    "\n",
    "plt.plot(np.arange(276), mean, label=\"tsmixer\")\n",
    "plt.fill_between(np.arange(276), mean-std, mean+std, alpha=0.3)\n",
    "\n",
    "plt.legend()\n",
    "plt.ylabel(\"CHLA\")\n",
    "plt.ylim(-0.5,1.5)\n",
    "plt.show()"
   ]
  }
 ],
 "metadata": {
  "kernelspec": {
   "display_name": "torch",
   "language": "python",
   "name": "python3"
  },
  "language_info": {
   "codemirror_mode": {
    "name": "ipython",
    "version": 3
   },
   "file_extension": ".py",
   "mimetype": "text/x-python",
   "name": "python",
   "nbconvert_exporter": "python",
   "pygments_lexer": "ipython3",
   "version": "3.11.5"
  }
 },
 "nbformat": 4,
 "nbformat_minor": 2
}
