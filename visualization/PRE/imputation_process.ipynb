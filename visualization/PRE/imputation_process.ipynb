{
 "cells": [
  {
   "cell_type": "code",
   "execution_count": 1,
   "metadata": {},
   "outputs": [],
   "source": [
    "import torch\n",
    "import os\n",
    "from torch.utils.data import DataLoader\n",
    "import logging\n",
    "import time\n",
    "from tqdm import tqdm\n",
    "from timm.utils import AverageMeter\n",
    "import numpy as np\n",
    "import argparse\n",
    "import sys\n",
    "\n",
    "sys.path.insert(0, \"/home/mafzhang/code/Project/CHLA-Imputation-and-Prediction-for-Bay/\")\n",
    "from dataset.dataset_imputation import PRE8dDataset\n",
    "from utils import check_dir, masked_mae, masked_mse, seed_everything\n",
    "from model.graphdiffusion import IAP_base"
   ]
  },
  {
   "cell_type": "code",
   "execution_count": 2,
   "metadata": {},
   "outputs": [],
   "source": [
    "parser = argparse.ArgumentParser(description='Imputation')\n",
    "\n",
    "# args for area and methods\n",
    "parser.add_argument('--area', type=str, default='PRE', help='which bay area we focus')\n",
    "\n",
    "# basic args\n",
    "parser.add_argument('--epochs', type=int, default=500, help='epochs')\n",
    "parser.add_argument('--batch_size', type=int, default=16, help='batch size')\n",
    "parser.add_argument('--lr', type=float, default=1e-3, help='learning rate')\n",
    "parser.add_argument('--wd', type=float, default=1e-4, help='weight decay')\n",
    "parser.add_argument('--test_freq', type=int, default=500, help='test per n epochs')\n",
    "parser.add_argument('--embedding_size', type=int, default=32)\n",
    "parser.add_argument('--hidden_channels', type=int, default=32)\n",
    "parser.add_argument('--diffusion_embedding_size', type=int, default=64)\n",
    "parser.add_argument('--side_channels', type=int, default=1)\n",
    "\n",
    "# args for tasks\n",
    "parser.add_argument('--in_len', type=int, default=46)\n",
    "parser.add_argument('--out_len', type=int, default=46)\n",
    "parser.add_argument('--missing_ratio', type=float, default=0.1)\n",
    "\n",
    "# args for diffusion\n",
    "parser.add_argument('--beta_start', type=float, default=0.0001, help='beta start from this')\n",
    "parser.add_argument('--beta_end', type=float, default=0.2, help='beta end to this')\n",
    "parser.add_argument('--num_steps', type=float, default=50, help='denoising steps')\n",
    "parser.add_argument('--num_samples', type=int, default=10, help='n datasets')\n",
    "parser.add_argument('--schedule', type=str, default='quad', help='noise schedule type')\n",
    "parser.add_argument('--target_strategy', type=str, default='random', help='mask')\n",
    "\n",
    "# args for mae\n",
    "parser.add_argument('--num_heads', type=int, default=8, help='n heads for self attention')\n",
    "config = parser.parse_args([])\n",
    "if config.area==\"MEXICO\":\n",
    "    config.height, config.width = 36, 120\n",
    "elif config.area==\"PRE\":\n",
    "    config.height, config.width = 60, 96\n",
    "elif config.area==\"Chesapeake\":\n",
    "    config.height, config.width = 60, 48\n",
    "elif config.area==\"Yangtze\":\n",
    "    config.height, config.width = 96, 72\n",
    "else:\n",
    "    print(\"Not Implement\")"
   ]
  },
  {
   "cell_type": "code",
   "execution_count": 5,
   "metadata": {},
   "outputs": [],
   "source": [
    "device = \"cuda\"\n",
    "train_dataset = PRE8dDataset(config)\n",
    "train_dloader = DataLoader(train_dataset, config.batch_size, shuffle=True, prefetch_factor=2, num_workers=2)\n",
    "test_dloader = DataLoader(PRE8dDataset(config, mode='test'), 1, shuffle=False)\n",
    "adj = np.load(\"/home/mafzhang/data/{}/8d/adj.npy\".format(config.area))\n",
    "adj = torch.from_numpy(adj).float().to(device)\n",
    "low_bound = torch.from_numpy(train_dataset.min).float().to(device)\n",
    "high_bound = torch.from_numpy(train_dataset.max).float().to(device)\n",
    "model = IAP_base(config, low_bound, high_bound)"
   ]
  },
  {
   "cell_type": "code",
   "execution_count": 6,
   "metadata": {},
   "outputs": [],
   "source": [
    "datas, data_ob_masks, data_gt_masks, labels, label_masks = next(iter(test_dloader))\n",
    "datas, data_ob_masks, data_gt_masks, labels, label_masks = datas.float().to(device), data_ob_masks.to(device), data_gt_masks.to(device), labels.to(device), label_masks.to(device)"
   ]
  }
 ],
 "metadata": {
  "kernelspec": {
   "display_name": "torch211",
   "language": "python",
   "name": "python3"
  },
  "language_info": {
   "codemirror_mode": {
    "name": "ipython",
    "version": 3
   },
   "file_extension": ".py",
   "mimetype": "text/x-python",
   "name": "python",
   "nbconvert_exporter": "python",
   "pygments_lexer": "ipython3",
   "version": "3.11.5"
  }
 },
 "nbformat": 4,
 "nbformat_minor": 2
}
